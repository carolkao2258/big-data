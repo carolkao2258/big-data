{
 "cells": [
  {
   "cell_type": "code",
   "execution_count": 4,
   "metadata": {
    "id": "VHsLS3G7hyKm"
   },
   "outputs": [],
   "source": [
    "import pandas as pd"
   ]
  },
  {
   "cell_type": "code",
   "execution_count": 10,
   "metadata": {
    "colab": {
     "base_uri": "https://localhost:8080/",
     "height": 175
    },
    "id": "U_V5n3JchyKu",
    "outputId": "57a9fbe4-f021-4f07-d1db-cd63825625e6"
   },
   "outputs": [
    {
     "data": {
      "text/html": [
       "<div>\n",
       "<style scoped>\n",
       "    .dataframe tbody tr th:only-of-type {\n",
       "        vertical-align: middle;\n",
       "    }\n",
       "\n",
       "    .dataframe tbody tr th {\n",
       "        vertical-align: top;\n",
       "    }\n",
       "\n",
       "    .dataframe thead th {\n",
       "        text-align: right;\n",
       "    }\n",
       "</style>\n",
       "<table border=\"1\" class=\"dataframe\">\n",
       "  <thead>\n",
       "    <tr style=\"text-align: right;\">\n",
       "      <th></th>\n",
       "      <th>Close</th>\n",
       "    </tr>\n",
       "    <tr>\n",
       "      <th>Date</th>\n",
       "      <th></th>\n",
       "    </tr>\n",
       "  </thead>\n",
       "  <tbody>\n",
       "    <tr>\n",
       "      <th>2014-01-02</th>\n",
       "      <td>9.4555</td>\n",
       "    </tr>\n",
       "    <tr>\n",
       "      <th>2014-01-03</th>\n",
       "      <td>9.5326</td>\n",
       "    </tr>\n",
       "    <tr>\n",
       "      <th>2014-01-06</th>\n",
       "      <td>9.5326</td>\n",
       "    </tr>\n",
       "  </tbody>\n",
       "</table>\n",
       "</div>"
      ],
      "text/plain": [
       "             Close\n",
       "Date              \n",
       "2014-01-02  9.4555\n",
       "2014-01-03  9.5326\n",
       "2014-01-06  9.5326"
      ]
     },
     "execution_count": 10,
     "metadata": {},
     "output_type": "execute_result"
    }
   ],
   "source": [
    "(1) #讀昆盈KYE股價資料\n",
    "KYE=pd.read_csv('2365.csv',index_col='Date')\n",
    "#KYE=pd.read_csv('2365.csv',sep='\\t',index_col='Date')\n",
    "KYE.index=pd.to_datetime(KYE.index)\n",
    "KYE.head(n=3)"
   ]
  },
  {
   "cell_type": "code",
   "execution_count": 11,
   "metadata": {
    "colab": {
     "base_uri": "https://localhost:8080/",
     "height": 175
    },
    "id": "wG_imWDChyKv",
    "outputId": "7a5796fa-4cf3-4ee3-b903-e1ec540ef5fb"
   },
   "outputs": [
    {
     "data": {
      "text/html": [
       "<div>\n",
       "<style scoped>\n",
       "    .dataframe tbody tr th:only-of-type {\n",
       "        vertical-align: middle;\n",
       "    }\n",
       "\n",
       "    .dataframe tbody tr th {\n",
       "        vertical-align: top;\n",
       "    }\n",
       "\n",
       "    .dataframe thead th {\n",
       "        text-align: right;\n",
       "    }\n",
       "</style>\n",
       "<table border=\"1\" class=\"dataframe\">\n",
       "  <thead>\n",
       "    <tr style=\"text-align: right;\">\n",
       "      <th></th>\n",
       "      <th>Close</th>\n",
       "    </tr>\n",
       "    <tr>\n",
       "      <th>Date</th>\n",
       "      <th></th>\n",
       "    </tr>\n",
       "  </thead>\n",
       "  <tbody>\n",
       "    <tr>\n",
       "      <th>2014-01-02</th>\n",
       "      <td>12.2909</td>\n",
       "    </tr>\n",
       "    <tr>\n",
       "      <th>2014-01-03</th>\n",
       "      <td>12.1363</td>\n",
       "    </tr>\n",
       "    <tr>\n",
       "      <th>2014-01-06</th>\n",
       "      <td>11.9817</td>\n",
       "    </tr>\n",
       "  </tbody>\n",
       "</table>\n",
       "</div>"
      ],
      "text/plain": [
       "              Close\n",
       "Date               \n",
       "2014-01-02  12.2909\n",
       "2014-01-03  12.1363\n",
       "2014-01-06  11.9817"
      ]
     },
     "execution_count": 11,
     "metadata": {},
     "output_type": "execute_result"
    }
   ],
   "source": [
    "#讀仲琦Hitron股價資料\n",
    "Hitron=pd.read_csv('2419.csv',index_col='Date')\n",
    "#KYE=pd.read_csv('2365.csv',sep='\\t',index_col='Date')\n",
    "Hitron.index=pd.to_datetime(Hitron.index)\n",
    "Hitron.head(n=3)"
   ]
  },
  {
   "cell_type": "code",
   "execution_count": 12,
   "metadata": {
    "colab": {
     "base_uri": "https://localhost:8080/",
     "height": 175
    },
    "id": "QSfD-odohyKv",
    "outputId": "09f28775-6163-4347-a14c-319903bc9c6e",
    "scrolled": true
   },
   "outputs": [
    {
     "data": {
      "text/html": [
       "<div>\n",
       "<style scoped>\n",
       "    .dataframe tbody tr th:only-of-type {\n",
       "        vertical-align: middle;\n",
       "    }\n",
       "\n",
       "    .dataframe tbody tr th {\n",
       "        vertical-align: top;\n",
       "    }\n",
       "\n",
       "    .dataframe thead th {\n",
       "        text-align: right;\n",
       "    }\n",
       "</style>\n",
       "<table border=\"1\" class=\"dataframe\">\n",
       "  <thead>\n",
       "    <tr style=\"text-align: right;\">\n",
       "      <th></th>\n",
       "      <th>Close</th>\n",
       "    </tr>\n",
       "    <tr>\n",
       "      <th>Date</th>\n",
       "      <th></th>\n",
       "    </tr>\n",
       "  </thead>\n",
       "  <tbody>\n",
       "    <tr>\n",
       "      <th>2014-01-02</th>\n",
       "      <td>12.2909</td>\n",
       "    </tr>\n",
       "    <tr>\n",
       "      <th>2014-01-03</th>\n",
       "      <td>12.1363</td>\n",
       "    </tr>\n",
       "    <tr>\n",
       "      <th>2014-01-06</th>\n",
       "      <td>11.9817</td>\n",
       "    </tr>\n",
       "  </tbody>\n",
       "</table>\n",
       "</div>"
      ],
      "text/plain": [
       "              Close\n",
       "Date               \n",
       "2014-01-02  12.2909\n",
       "2014-01-03  12.1363\n",
       "2014-01-06  11.9817"
      ]
     },
     "execution_count": 12,
     "metadata": {},
     "output_type": "execute_result"
    }
   ],
   "source": [
    "#定義配對形成期(formation period)\n",
    "formStart='2014-01-01'\n",
    "formEnd='2014-09-30'\n",
    "KYef=KYE[formStart:formEnd]\n",
    "Hitronf=Hitron[formStart:formEnd]\n",
    "KYef.head(3)\n",
    "Hitronf.head(3)"
   ]
  },
  {
   "cell_type": "code",
   "execution_count": 13,
   "metadata": {
    "colab": {
     "base_uri": "https://localhost:8080/",
     "height": 455
    },
    "id": "5M1-1S_AhyKw",
    "outputId": "695deee0-566b-4132-cbe9-427f8a61e290"
   },
   "outputs": [
    {
     "data": {
      "text/html": [
       "<div>\n",
       "<style scoped>\n",
       "    .dataframe tbody tr th:only-of-type {\n",
       "        vertical-align: middle;\n",
       "    }\n",
       "\n",
       "    .dataframe tbody tr th {\n",
       "        vertical-align: top;\n",
       "    }\n",
       "\n",
       "    .dataframe thead th {\n",
       "        text-align: right;\n",
       "    }\n",
       "</style>\n",
       "<table border=\"1\" class=\"dataframe\">\n",
       "  <thead>\n",
       "    <tr style=\"text-align: right;\">\n",
       "      <th></th>\n",
       "      <th>KYeP</th>\n",
       "      <th>HitronP</th>\n",
       "    </tr>\n",
       "    <tr>\n",
       "      <th>Date</th>\n",
       "      <th></th>\n",
       "      <th></th>\n",
       "    </tr>\n",
       "  </thead>\n",
       "  <tbody>\n",
       "    <tr>\n",
       "      <th>2014-01-02</th>\n",
       "      <td>9.4555</td>\n",
       "      <td>12.2909</td>\n",
       "    </tr>\n",
       "    <tr>\n",
       "      <th>2014-01-03</th>\n",
       "      <td>9.5326</td>\n",
       "      <td>12.1363</td>\n",
       "    </tr>\n",
       "    <tr>\n",
       "      <th>2014-01-06</th>\n",
       "      <td>9.5326</td>\n",
       "      <td>11.9817</td>\n",
       "    </tr>\n",
       "    <tr>\n",
       "      <th>2014-01-07</th>\n",
       "      <td>9.5712</td>\n",
       "      <td>12.2136</td>\n",
       "    </tr>\n",
       "    <tr>\n",
       "      <th>2014-01-08</th>\n",
       "      <td>9.6098</td>\n",
       "      <td>12.2909</td>\n",
       "    </tr>\n",
       "    <tr>\n",
       "      <th>...</th>\n",
       "      <td>...</td>\n",
       "      <td>...</td>\n",
       "    </tr>\n",
       "    <tr>\n",
       "      <th>2014-09-24</th>\n",
       "      <td>9.7420</td>\n",
       "      <td>13.3648</td>\n",
       "    </tr>\n",
       "    <tr>\n",
       "      <th>2014-09-25</th>\n",
       "      <td>9.5783</td>\n",
       "      <td>13.0484</td>\n",
       "    </tr>\n",
       "    <tr>\n",
       "      <th>2014-09-26</th>\n",
       "      <td>9.4555</td>\n",
       "      <td>12.7717</td>\n",
       "    </tr>\n",
       "    <tr>\n",
       "      <th>2014-09-29</th>\n",
       "      <td>9.4555</td>\n",
       "      <td>12.8507</td>\n",
       "    </tr>\n",
       "    <tr>\n",
       "      <th>2014-09-30</th>\n",
       "      <td>9.6601</td>\n",
       "      <td>12.7321</td>\n",
       "    </tr>\n",
       "  </tbody>\n",
       "</table>\n",
       "<p>182 rows × 2 columns</p>\n",
       "</div>"
      ],
      "text/plain": [
       "              KYeP  HitronP\n",
       "Date                       \n",
       "2014-01-02  9.4555  12.2909\n",
       "2014-01-03  9.5326  12.1363\n",
       "2014-01-06  9.5326  11.9817\n",
       "2014-01-07  9.5712  12.2136\n",
       "2014-01-08  9.6098  12.2909\n",
       "...            ...      ...\n",
       "2014-09-24  9.7420  13.3648\n",
       "2014-09-25  9.5783  13.0484\n",
       "2014-09-26  9.4555  12.7717\n",
       "2014-09-29  9.4555  12.8507\n",
       "2014-09-30  9.6601  12.7321\n",
       "\n",
       "[182 rows x 2 columns]"
      ]
     },
     "execution_count": 13,
     "metadata": {},
     "output_type": "execute_result"
    }
   ],
   "source": [
    "#將兩支股票收盤價整合再一起形成Dataframe\n",
    "pairf=pd.concat([KYef.Close,Hitronf.Close],axis=1)\n",
    "#len(pairf)\n",
    "pairf\n",
    "\n",
    "#改columns的名字,不然都叫Close\n",
    "pairf.columns=['KYeP', 'HitronP']\n",
    "pairf"
   ]
  },
  {
   "cell_type": "code",
   "execution_count": 14,
   "metadata": {
    "id": "Ni2dLPXdhyKw"
   },
   "outputs": [],
   "source": [
    "import matplotlib.pyplot as plt"
   ]
  },
  {
   "cell_type": "code",
   "execution_count": 15,
   "metadata": {
    "colab": {
     "base_uri": "https://localhost:8080/",
     "height": 473
    },
    "id": "r1hOIRpvhyKw",
    "outputId": "fc9f982d-d7e9-4225-8ebd-626ae4f3c12e"
   },
   "outputs": [
    {
     "data": {
      "text/plain": [
       "<Axes: title={'center': '2014 Close Price'}, xlabel='Date'>"
      ]
     },
     "execution_count": 15,
     "metadata": {},
     "output_type": "execute_result"
    },
    {
     "data": {
      "image/png": "[encoded data removed]",
      "text/plain": [
       "<Figure size 640x480 with 1 Axes>"
      ]
     },
     "metadata": {},
     "output_type": "display_data"
    }
   ],
   "source": [
    "pairf.plot(title='2014 Close Price')"
   ]
  },
  {
   "cell_type": "code",
   "execution_count": null,
   "metadata": {
    "id": "tYGjub15hyKw"
   },
   "outputs": [],
   "source": [
    "#(2)構造標準化價格之差平方累積SSD函數，並計算標準化價格距離\n",
    "#def SSD(priceX, priceY):\n",
    "#    if priceX is None or priceY is None:\n",
    "#     print('缺少價格序列.')\n",
    "#    standardX=priceX/priceX[0]\n",
    "#    standardY=priceY/priceY[0]\n",
    "#    SSD=np.sum((standardX-standardY)**2)\n",
    "#    return(SSD)"
   ]
  },
  {
   "cell_type": "code",
   "execution_count": null,
   "metadata": {
    "id": "aOuMIWqGhyKw"
   },
   "outputs": [],
   "source": [
    "#還未跑\n",
    "#KYEf=pairf['KYE']\n",
    "#Hitronf=pairf['Hitron']\n",
    "\n",
    "#dis=SSD(KYEf,Hitronf)\n",
    "#dis"
   ]
  },
  {
   "cell_type": "code",
   "execution_count": 16,
   "metadata": {
    "id": "8uJBLuARhyKx"
   },
   "outputs": [],
   "source": [
    "#檢查序列穩定(匯入ADF函數與numpy套件)\n",
    "#from arch.unitroot import ADF\n",
    "from statsmodels.tsa.stattools import adfuller"
   ]
  },
  {
   "cell_type": "code",
   "execution_count": 17,
   "metadata": {
    "id": "qLz0ZXxnhyKx"
   },
   "outputs": [],
   "source": [
    "import numpy as np"
   ]
  },
  {
   "cell_type": "code",
   "execution_count": 18,
   "metadata": {
    "colab": {
     "base_uri": "https://localhost:8080/",
     "height": 455
    },
    "id": "LZ3OT3cGhyKx",
    "outputId": "7b848798-22d2-463a-eaa1-7b638af5c7a1"
   },
   "outputs": [
    {
     "data": {
      "text/html": [
       "<div>\n",
       "<style scoped>\n",
       "    .dataframe tbody tr th:only-of-type {\n",
       "        vertical-align: middle;\n",
       "    }\n",
       "\n",
       "    .dataframe tbody tr th {\n",
       "        vertical-align: top;\n",
       "    }\n",
       "\n",
       "    .dataframe thead th {\n",
       "        text-align: right;\n",
       "    }\n",
       "</style>\n",
       "<table border=\"1\" class=\"dataframe\">\n",
       "  <thead>\n",
       "    <tr style=\"text-align: right;\">\n",
       "      <th></th>\n",
       "      <th>Hitronflog</th>\n",
       "    </tr>\n",
       "    <tr>\n",
       "      <th>Date</th>\n",
       "      <th></th>\n",
       "    </tr>\n",
       "  </thead>\n",
       "  <tbody>\n",
       "    <tr>\n",
       "      <th>2014-01-02</th>\n",
       "      <td>2.508859</td>\n",
       "    </tr>\n",
       "    <tr>\n",
       "      <th>2014-01-03</th>\n",
       "      <td>2.496201</td>\n",
       "    </tr>\n",
       "    <tr>\n",
       "      <th>2014-01-06</th>\n",
       "      <td>2.483380</td>\n",
       "    </tr>\n",
       "    <tr>\n",
       "      <th>2014-01-07</th>\n",
       "      <td>2.502550</td>\n",
       "    </tr>\n",
       "    <tr>\n",
       "      <th>2014-01-08</th>\n",
       "      <td>2.508859</td>\n",
       "    </tr>\n",
       "    <tr>\n",
       "      <th>...</th>\n",
       "      <td>...</td>\n",
       "    </tr>\n",
       "    <tr>\n",
       "      <th>2014-09-24</th>\n",
       "      <td>2.592624</td>\n",
       "    </tr>\n",
       "    <tr>\n",
       "      <th>2014-09-25</th>\n",
       "      <td>2.568666</td>\n",
       "    </tr>\n",
       "    <tr>\n",
       "      <th>2014-09-26</th>\n",
       "      <td>2.547232</td>\n",
       "    </tr>\n",
       "    <tr>\n",
       "      <th>2014-09-29</th>\n",
       "      <td>2.553398</td>\n",
       "    </tr>\n",
       "    <tr>\n",
       "      <th>2014-09-30</th>\n",
       "      <td>2.544126</td>\n",
       "    </tr>\n",
       "  </tbody>\n",
       "</table>\n",
       "<p>182 rows × 1 columns</p>\n",
       "</div>"
      ],
      "text/plain": [
       "            Hitronflog\n",
       "Date                  \n",
       "2014-01-02    2.508859\n",
       "2014-01-03    2.496201\n",
       "2014-01-06    2.483380\n",
       "2014-01-07    2.502550\n",
       "2014-01-08    2.508859\n",
       "...                ...\n",
       "2014-09-24    2.592624\n",
       "2014-09-25    2.568666\n",
       "2014-09-26    2.547232\n",
       "2014-09-29    2.553398\n",
       "2014-09-30    2.544126\n",
       "\n",
       "[182 rows x 1 columns]"
      ]
     },
     "execution_count": 18,
     "metadata": {},
     "output_type": "execute_result"
    }
   ],
   "source": [
    "#檢定昆盈對數價格I(1)一階整合性\n",
    "#先取股價對數\n",
    "KYeflog=np.log(KYef)\n",
    "Hitronflog=np.log(Hitronf)\n",
    "#改欄位名字\n",
    "KYeflog.columns=['KYeflog']\n",
    "Hitronflog.columns=['Hitronflog']\n",
    "\n",
    "KYeflog=KYeflog.dropna()\n",
    "Hitronflog=Hitronflog.dropna()\n",
    "\n",
    "Hitronflog"
   ]
  },
  {
   "cell_type": "code",
   "execution_count": 20,
   "metadata": {
    "colab": {
     "base_uri": "https://localhost:8080/"
    },
    "id": "uN35lc3mhyKx",
    "outputId": "adca7fee-bbff-4eb6-f9a0-3d6d406f8fb8"
   },
   "outputs": [
    {
     "name": "stdout",
     "output_type": "stream",
     "text": [
      "ADF Statistics: -2.061447\n",
      "p-value: 0.260297\n",
      "Critical Values:\n",
      "\t1%: -3.467\n",
      "\t5%: -2.878\n",
      "\t10%: -2.575\n"
     ]
    }
   ],
   "source": [
    "#check兩個時間序列是否都是非定態I(1)(即一階差分後定態）,這樣才能跑coint\n",
    "#先看昆盈level是否為非定態\n",
    "#不拒絕表示不穩定\n",
    "from statsmodels.tsa.stattools import adfuller\n",
    "adfA=adfuller(KYeflog)\n",
    "print('ADF Statistics: %f' % adfA[0])\n",
    "print('p-value: %f' % adfA[1])\n",
    "print('Critical Values:')\n",
    "for key, value in adfA[4].items():\n",
    " print('\\t%s: %.3f' % (key,value))"
   ]
  },
  {
   "cell_type": "code",
   "execution_count": 23,
   "metadata": {
    "colab": {
     "base_uri": "https://localhost:8080/"
    },
    "id": "c88PSXa-hyKx",
    "outputId": "0940127c-fddc-4ed2-f745-194042a0598d"
   },
   "outputs": [
    {
     "name": "stdout",
     "output_type": "stream",
     "text": [
      "ADF Statistics: -12.804627\n",
      "p-value: 0.000000\n",
      "Critical Values:\n",
      "\t1%: -3.467\n",
      "\t5%: -2.878\n",
      "\t10%: -2.575\n"
     ]
    }
   ],
   "source": [
    " #看昆盈一階差分後是否為定態,即I(1)\n",
    "#結果顯著表示穩定\n",
    "retA=KYeflog.diff()[1:]\n",
    "retA.rename(columns={'KYeflog':'retA'}) #改一下欄位名比較好理解\n",
    "adfA=adfuller(retA)\n",
    "print('ADF Statistics: %f' % adfA[0])\n",
    "print('p-value: %f' % adfA[1])\n",
    "print('Critical Values:')\n",
    "for key, value in adfA[4].items():\n",
    "  print('\\t%s: %.3f' % (key,value))"
   ]
  },
  {
   "cell_type": "code",
   "execution_count": 24,
   "metadata": {
    "colab": {
     "base_uri": "https://localhost:8080/"
    },
    "id": "PUc1I71UhyKy",
    "outputId": "696227ed-e072-4323-c829-bcc5b26d4ac7"
   },
   "outputs": [
    {
     "name": "stdout",
     "output_type": "stream",
     "text": [
      "ADF Statistics: -2.565087\n",
      "p-value: 0.100430\n",
      "Critical Values:\n",
      "\t1%: -3.468\n",
      "\t5%: -2.878\n",
      "\t10%: -2.576\n"
     ]
    }
   ],
   "source": [
    "# 再看仲琦level是否為非定態\n",
    "from statsmodels.tsa.stattools import adfuller\n",
    "adfB=adfuller(Hitronflog)\n",
    "print('ADF Statistics: %f' % adfB[0])\n",
    "print('p-value: %f' % adfB[1])\n",
    "print('Critical Values:')\n",
    "for key, value in adfB[4].items():\n",
    " print('\\t%s: %.3f' % (key,value))"
   ]
  },
  {
   "cell_type": "code",
   "execution_count": 26,
   "metadata": {
    "colab": {
     "base_uri": "https://localhost:8080/"
    },
    "id": "R4jLMXI8hyKy",
    "outputId": "a4ccea63-3dfb-41a0-d437-6df3d845c00e"
   },
   "outputs": [
    {
     "name": "stdout",
     "output_type": "stream",
     "text": [
      "ADF Statistics: -5.436443\n",
      "p-value: 0.000003\n",
      "Critical Values:\n",
      "\t1%: -3.468\n",
      "\t5%: -2.878\n",
      "\t10%: -2.576\n"
     ]
    }
   ],
   "source": [
    " #再看仲琦一階差分後是否為定態即I(1)\n",
    "retＢ=Hitronflog.diff()[1:]\n",
    "retB.rename(columns={'Hitronflog':'retB'})   #改一下欄位名比較好理解\n",
    "adfＢ=adfuller(retＢ)\n",
    "print('ADF Statistics: %f' % adfＢ[0])\n",
    "print('p-value: %f' % adfＢ[1])\n",
    "print('Critical Values:')\n",
    "for key, value in adfＢ[4].items():\n",
    "  print('\\t%s: %.3f' % (key,value))"
   ]
  },
  {
   "cell_type": "code",
   "execution_count": 28,
   "metadata": {
    "colab": {
     "base_uri": "https://localhost:8080/"
    },
    "id": "BIASjXZhhyKy",
    "outputId": "b94db0d8-6917-4199-fbcf-566c983cbdea"
   },
   "outputs": [
    {
     "name": "stdout",
     "output_type": "stream",
     "text": [
      "                            OLS Regression Results                            \n",
      "==============================================================================\n",
      "Dep. Variable:                KYeflog   R-squared:                       0.783\n",
      "Model:                            OLS   Adj. R-squared:                  0.781\n",
      "Method:                 Least Squares   F-statistic:                     648.2\n",
      "Date:                Wed, 16 Oct 2024   Prob (F-statistic):           1.47e-61\n",
      "Time:                        11:12:17   Log-Likelihood:                 370.38\n",
      "No. Observations:                 182   AIC:                            -736.8\n",
      "Df Residuals:                     180   BIC:                            -730.4\n",
      "Df Model:                           1                                         \n",
      "Covariance Type:            nonrobust                                         \n",
      "==============================================================================\n",
      "                 coef    std err          t      P>|t|      [0.025      0.975]\n",
      "------------------------------------------------------------------------------\n",
      "const          0.3869      0.077      5.009      0.000       0.235       0.539\n",
      "Hitronflog     0.7353      0.029     25.460      0.000       0.678       0.792\n",
      "==============================================================================\n",
      "Omnibus:                        1.653   Durbin-Watson:                   0.509\n",
      "Prob(Omnibus):                  0.438   Jarque-Bera (JB):                1.292\n",
      "Skew:                           0.100   Prob(JB):                        0.524\n",
      "Kurtosis:                       3.361   Cond. No.                         99.9\n",
      "==============================================================================\n",
      "\n",
      "Notes:\n",
      "[1] Standard Errors assume that the covariance matrix of the errors is correctly specified.\n"
     ]
    }
   ],
   "source": [
    "import statsmodels.api as sm\n",
    "#statsmodels.regression.linear_model.OLS\n",
    "#共整合檢定cointegration\n",
    "#Y是昆盈A股票對數價格\n",
    "#X是仲琦對數價格\n",
    "#add_constant表示加入截距項\n",
    "#先設超參數在fit\n",
    "#係數皆有顯著\n",
    "model=sm.OLS(KYeflog,sm.add_constant(Hitronflog))\n",
    "result=model.fit()\n",
    "print(result.summary())"
   ]
  },
  {
   "cell_type": "code",
   "execution_count": 32,
   "metadata": {
    "colab": {
     "base_uri": "https://localhost:8080/"
    },
    "id": "oTCLlepxhyKy",
    "outputId": "84c02969-d8c4-4161-9552-4b49f1415348"
   },
   "outputs": [
    {
     "name": "stderr",
     "output_type": "stream",
     "text": [
      "C:\\Users\\User\\AppData\\Local\\Temp\\ipykernel_14900\\83549826.py:2: FutureWarning: Series.__getitem__ treating keys as positions is deprecated. In a future version, integer keys will always be treated as labels (consistent with DataFrame behavior). To access a value by position, use `ser.iloc[pos]`\n",
      "  alpha=result.params[0]\n",
      "C:\\Users\\User\\AppData\\Local\\Temp\\ipykernel_14900\\83549826.py:3: FutureWarning: Series.__getitem__ treating keys as positions is deprecated. In a future version, integer keys will always be treated as labels (consistent with DataFrame behavior). To access a value by position, use `ser.iloc[pos]`\n",
      "  beta=result.params[1]\n"
     ]
    },
    {
     "data": {
      "text/plain": [
       "0.7353437818017321"
      ]
     },
     "execution_count": 32,
     "metadata": {},
     "output_type": "execute_result"
    }
   ],
   "source": [
    "#擷取回歸截距項與slope\n",
    "alpha=result.params[0]\n",
    "beta=result.params[1]\n",
    "alpha\n",
    "beta"
   ]
  },
  {
   "cell_type": "code",
   "execution_count": 34,
   "metadata": {
    "colab": {
     "base_uri": "https://localhost:8080/",
     "height": 489
    },
    "id": "G_RyiizshyKy",
    "outputId": "38c5d7b6-a4b0-4cc7-b78c-50d083e645eb"
   },
   "outputs": [
    {
     "data": {
      "text/plain": [
       "Date\n",
       "2014-01-02    0.014773\n",
       "2014-01-03    0.032202\n",
       "2014-01-06    0.041629\n",
       "2014-01-07    0.031574\n",
       "2014-01-08    0.030960\n",
       "                ...   \n",
       "2014-05-28    0.017748\n",
       "2014-05-29   -0.026486\n",
       "2014-05-30   -0.049384\n",
       "2014-06-03   -0.064084\n",
       "2014-06-04   -0.030860\n",
       "Length: 100, dtype: float64"
      ]
     },
     "execution_count": 34,
     "metadata": {},
     "output_type": "execute_result"
    }
   ],
   "source": [
    "#求殘差(ECM, error correction mechanism)\n",
    "#利用真實的y檢調預測的y得到殘差\n",
    "spreadf=KYeflog.KYeflog-beta*Hitronflog.Hitronflog-alpha\n",
    "spreadf.head(100)"
   ]
  },
  {
   "cell_type": "code",
   "execution_count": 35,
   "metadata": {
    "colab": {
     "base_uri": "https://localhost:8080/",
     "height": 453
    },
    "id": "NJUL1BrthyKy",
    "outputId": "a3f2fb5a-8cd0-4bf9-8d45-d47c21208c2c"
   },
   "outputs": [
    {
     "data": {
      "text/plain": [
       "<Axes: xlabel='Date'>"
      ]
     },
     "execution_count": 35,
     "metadata": {},
     "output_type": "execute_result"
    },
    {
     "data": {
      "image/png": "[encoded data removed]",
      "text/plain": [
       "<Figure size 640x480 with 1 Axes>"
      ]
     },
     "metadata": {},
     "output_type": "display_data"
    }
   ],
   "source": [
    "#畫殘差序列圖\n",
    "spreadf.plot()"
   ]
  },
  {
   "cell_type": "code",
   "execution_count": 37,
   "metadata": {
    "colab": {
     "base_uri": "https://localhost:8080/"
    },
    "id": "4CECPtyIhyKz",
    "outputId": "92574084-100b-4249-e53f-8d5638dc4c7b"
   },
   "outputs": [
    {
     "name": "stdout",
     "output_type": "stream",
     "text": [
      "ADF Statistics: -5.116535\n",
      "p-value: 0.000013\n",
      "Critical Values:\n",
      "\t1%: -3.467\n",
      "\t5%: -2.878\n",
      "\t10%: -2.575\n"
     ]
    }
   ],
   "source": [
    "#價差單根檢定, 若價差穩定stationary表示兩序列的確有共整合關係(長期均衡關係)\n",
    "#拒絕H0，表示為定態\n",
    "from statsmodels.tsa.stattools import adfuller\n",
    "adfspread=adfuller(spreadf)\n",
    "print('ADF Statistics: %f' % adfspread[0])\n",
    "print('p-value: %f' % adfspread[1])\n",
    "print('Critical Values:')\n",
    "for key, value in adfspread[4].items():\n",
    " print('\\t%s: %.3f' % (key,value))"
   ]
  },
  {
   "cell_type": "code",
   "execution_count": 38,
   "metadata": {
    "colab": {
     "base_uri": "https://localhost:8080/"
    },
    "id": "KBAogN9hhyKz",
    "outputId": "7e421454-ea87-428c-e310-db26055ef9de"
   },
   "outputs": [
    {
     "name": "stdout",
     "output_type": "stream",
     "text": [
      "8.064367244804708e-16\n",
      "0.031619184391863134\n",
      "0.03794302127023656\n",
      "-0.03794302127023495\n"
     ]
    }
   ],
   "source": [
    "#當交易期價差超過u+1.2sigma-->開倉\n",
    "#當交易期價差又回到u附近時,進行平倉\n",
    "#當sigma倍數設定較小,會頻觸發交易訊號,但賺取的收益較小\n",
    "#若倍數設定較大,會有較高收益,但較少觸發交易訊號\n",
    "mu=np.mean(spreadf)\n",
    "sd=np.std(spreadf)\n",
    "print(mu)\n",
    "print(sd)\n",
    "print(mu+1.2*sd)\n",
    "print(mu-1.2*sd)"
   ]
  },
  {
   "cell_type": "code",
   "execution_count": 44,
   "metadata": {
    "colab": {
     "base_uri": "https://localhost:8080/",
     "height": 489
    },
    "id": "gEBdSeC_hyKz",
    "outputId": "effd6f5c-878a-4f43-9676-42d6f3cd3ad7"
   },
   "outputs": [
    {
     "data": {
      "text/plain": [
       "Date\n",
       "2014-10-01     9.8238\n",
       "2014-10-02     9.8238\n",
       "2014-10-03     9.7420\n",
       "2014-10-06     9.7420\n",
       "2014-10-07     9.5783\n",
       "               ...   \n",
       "2014-12-26     9.9466\n",
       "2014-12-27     9.9466\n",
       "2014-12-29    10.1513\n",
       "2014-12-30     9.9466\n",
       "2014-12-31     9.9466\n",
       "Name: Close, Length: 66, dtype: float64"
      ]
     },
     "execution_count": 44,
     "metadata": {},
     "output_type": "execute_result"
    }
   ],
   "source": [
    "#交易期\n",
    "#用前九個月形成交易策略，後三個月為交易期\n",
    "tradStart='2014-10-01'\n",
    "tradEnd='2014-12-31'\n",
    "KYEt=KYE[tradStart:tradEnd].Close\n",
    "Hitront=Hitron[tradStart:tradEnd].Close\n",
    "KYEt"
   ]
  },
  {
   "cell_type": "code",
   "execution_count": 42,
   "metadata": {
    "colab": {
     "base_uri": "https://localhost:8080/",
     "height": 335
    },
    "id": "ynmISYLbhyKz",
    "outputId": "5a38a2fa-9d98-4fdd-83d2-78d37dbe4c8b"
   },
   "outputs": [
    {
     "data": {
      "text/plain": [
       "count    66.000000\n",
       "mean     -0.022154\n",
       "std       0.033877\n",
       "min      -0.090217\n",
       "25%      -0.049913\n",
       "50%      -0.021257\n",
       "75%       0.001238\n",
       "max       0.069636\n",
       "Name: Close, dtype: float64"
      ]
     },
     "execution_count": 42,
     "metadata": {},
     "output_type": "execute_result"
    }
   ],
   "source": [
    "CoSpreadT=np.log(KYEt)-beta*np.log(Hitront)-alpha\n",
    "CoSpreadT.describe()"
   ]
  },
  {
   "cell_type": "code",
   "execution_count": 45,
   "metadata": {
    "colab": {
     "base_uri": "https://localhost:8080/",
     "height": 462
    },
    "id": "CwvkoLtThyKz",
    "outputId": "d10e1af1-908d-41f6-bd3a-720631c13df1"
   },
   "outputs": [
    {
     "data": {
      "text/plain": [
       "<matplotlib.lines.Line2D at 0x2131ac381d0>"
      ]
     },
     "execution_count": 45,
     "metadata": {},
     "output_type": "execute_result"
    },
    {
     "data": {
      "image/png": "[encoded data removed]",
      "text/plain": [
       "<Figure size 640x480 with 1 Axes>"
      ]
     },
     "metadata": {},
     "output_type": "display_data"
    }
   ],
   "source": [
    "#交易期價差序列(共整合配對後)\n",
    "#藍色線觸碰到紅線，觸發交易訊號\n",
    "CoSpreadT.plot()\n",
    "plt.axhline(y=mu,color='black')\n",
    "plt.axhline(y=mu+1.2*sd,color='red')\n",
    "plt.axhline(y=mu-1.2*sd,color='red')"
   ]
  },
  {
   "cell_type": "code",
   "execution_count": 46,
   "metadata": {
    "colab": {
     "base_uri": "https://localhost:8080/"
    },
    "id": "HcUqTpBfhyKz",
    "outputId": "cd3a8d1e-0cb4-4050-fc50-0a1e68c2479e"
   },
   "outputs": [
    {
     "name": "stdout",
     "output_type": "stream",
     "text": [
      "Correlation: 0.8846823776456153\n",
      "Cointegration test score: -5.130761627197595\n",
      "Cointegration test p-value: 9.397663677371489e-05\n"
     ]
    }
   ],
   "source": [
    "print('Correlation: ' + str(KYeflog.KYeflog.corr(Hitronflog.Hitronflog)))\n",
    "\n",
    "#較正式的ECM的ECM (cointegration test),短期修正效果,p-value小就有共整合\n",
    "\n",
    "from statsmodels.tsa.stattools import coint\n",
    "#result_coint=coint()\n",
    "score, pvalue, _ = coint(KYeflog,Hitronflog, maxlag=1)\n",
    "print('Cointegration test score: ' + str(score))\n",
    "print('Cointegration test p-value: ' + str(pvalue))\n",
    "#print('coint t-Statistics: %f' % result_coint[0])\n",
    "#print('p-value: %f' % result_coint[1])\n",
    "#print('Critical Values:')\n",
    "#for key, value in result_coint[4]:\n",
    "# print('\\t%s: %.3f' % (key,value))"
   ]
  },
  {
   "cell_type": "code",
   "execution_count": null,
   "metadata": {
    "id": "Ns6Ep3U4hyKz"
   },
   "outputs": [],
   "source": [
    "#開始VAR模型\n",
    "from statsmodels.tsa.api import VAR"
   ]
  },
  {
   "cell_type": "code",
   "execution_count": null,
   "metadata": {
    "colab": {
     "base_uri": "https://localhost:8080/"
    },
    "id": "dvjHUwLuhyK0",
    "outputId": "2229114b-bf16-416c-da8f-8d131a017e41"
   },
   "outputs": [],
   "source": [
    "#model=VAR(pairf)"
   ]
  },
  {
   "cell_type": "code",
   "execution_count": null,
   "metadata": {
    "id": "XGMaYHGKhyK0"
   },
   "outputs": [],
   "source": [
    "#選取最佳order\n",
    "#model.select_order(maxlags=12).summary()"
   ]
  },
  {
   "cell_type": "code",
   "execution_count": null,
   "metadata": {
    "id": "9z0X6veuhyK0"
   },
   "outputs": [],
   "source": [
    "#找出最佳order(p=1)的自回歸模型\n",
    "#model_fitted=model.fit(1)\n",
    "#model_fitted.summary()"
   ]
  },
  {
   "cell_type": "code",
   "execution_count": null,
   "metadata": {
    "colab": {
     "base_uri": "https://localhost:8080/",
     "height": 455
    },
    "id": "ecvaxNZ0hyK0",
    "outputId": "c3e46508-1110-48e1-c322-def1ceff64e0"
   },
   "outputs": [],
   "source": [
    "#將兩支股票報酬率整合再一起形成Dataframe\n",
    "pair_ret=pd.concat([retA,retB],axis=1)\n",
    "#len(pair_ret)\n",
    "pair_ret"
   ]
  },
  {
   "cell_type": "code",
   "execution_count": null,
   "metadata": {
    "colab": {
     "base_uri": "https://localhost:8080/",
     "height": 403
    },
    "id": "ukmFq4uthyK0",
    "outputId": "9edb996c-699e-4c28-d51b-8762aab8e457"
   },
   "outputs": [],
   "source": [
    "model_ret=VAR(pair_ret)\n",
    "model_ret.select_order(maxlags=12).summary()"
   ]
  },
  {
   "cell_type": "code",
   "execution_count": null,
   "metadata": {
    "colab": {
     "base_uri": "https://localhost:8080/"
    },
    "id": "k3o9TvOVhyK0",
    "outputId": "eb152c71-4a2d-433d-d8b9-6e07fefe208c"
   },
   "outputs": [],
   "source": [
    "#找出最佳order(p=0)的自回歸模型\n",
    "model_fitted=model_ret.fit(0)\n",
    "model_fitted.summary()"
   ]
  },
  {
   "cell_type": "code",
   "execution_count": null,
   "metadata": {
    "id": "jsrjfrUUhyK0"
   },
   "outputs": [],
   "source": [
    "from statsmodels.tsa.stattools import grangercausalitytests\n"
   ]
  },
  {
   "cell_type": "code",
   "execution_count": null,
   "metadata": {
    "colab": {
     "base_uri": "https://localhost:8080/",
     "height": 206
    },
    "id": "E2rONmeZhyK1",
    "outputId": "d59b1534-1ad8-4764-c639-05999c888ee3"
   },
   "outputs": [],
   "source": [
    "url=\"https://raw.githubusercontent.com/Statology/Miscellaneous/main/chicken_egg.txt\"\n",
    "df=pd.read_csv(url,sep=\" \")\n",
    "df.head()"
   ]
  },
  {
   "cell_type": "code",
   "execution_count": null,
   "metadata": {
    "colab": {
     "base_uri": "https://localhost:8080/"
    },
    "id": "CjS3_AmghyK1",
    "outputId": "93e4f643-2b87-496e-cae3-c8563aba9477"
   },
   "outputs": [],
   "source": [
    "#perform Granger-Causality test\n",
    "# Q: eggs --> chicken ?\n",
    "# whether eggs granger cause the chicken ?\n",
    "\n",
    "#Note: if F large or p-value is small then we can reject H0 of the test\n",
    "#and conclude that number of eggs is useful\n",
    "#in predicting the future # of chickens\n",
    "\n",
    "grangercausalitytests(df[['chicken','egg']],maxlag=[3])"
   ]
  },
  {
   "cell_type": "code",
   "execution_count": null,
   "metadata": {
    "colab": {
     "base_uri": "https://localhost:8080/"
    },
    "id": "QaB9P0I-hyK1",
    "outputId": "e3a021c9-23f3-4654-f947-22cedf86d8d7"
   },
   "outputs": [],
   "source": [
    "#perform 逆向 Granger-Causality test\n",
    "# Q: chicken --> eggs  ?\n",
    "# whether chicken granger cause the eggs  ?\n",
    "\n",
    "#Note: if F large or p-value is small then we can reject H0 of the test\n",
    "#and conclude that number of chickens is useful\n",
    "#in predicting the future # of eggs\n",
    "\n",
    "grangercausalitytests(df[['egg','chicken']],maxlag=[3])\n",
    "\n"
   ]
  },
  {
   "cell_type": "code",
   "execution_count": null,
   "metadata": {
    "colab": {
     "base_uri": "https://localhost:8080/",
     "height": 237
    },
    "id": "ydR80a7phyK1",
    "outputId": "90af1c25-ffd2-45d4-e384-7bd971eefbd4"
   },
   "outputs": [],
   "source": [
    "import pandas_datareader as pdr\n",
    "# 从FRED数据库下载GDP, 通货膨胀率和联邦基金利率的数据\n",
    "macrodata = pdr.get_data_fred(['GDP', 'CPIAUCSL', 'FEDFUNDS'], start='2000-01-01', end='2023-01-01')\n",
    "macrodata.head()"
   ]
  },
  {
   "cell_type": "code",
   "execution_count": null,
   "metadata": {
    "colab": {
     "base_uri": "https://localhost:8080/"
    },
    "id": "9XJc42HGv_FW",
    "outputId": "b52ee973-775f-4e89-a217-113d992256c5"
   },
   "outputs": [],
   "source": [
    "# 填补空缺值并进行差分处理（解决单位根问题）\n",
    "macrodata = macrodata.fillna(method='ffill').dropna()  # 处理缺失值\n",
    "macrodata_diff = macrodata.diff().dropna()  # 差分数据"
   ]
  },
  {
   "cell_type": "code",
   "execution_count": null,
   "metadata": {
    "colab": {
     "base_uri": "https://localhost:8080/",
     "height": 347
    },
    "id": "9pHCEu_OvnPH",
    "outputId": "c8d87f28-cd13-4105-87d6-ff30285ea2db"
   },
   "outputs": [],
   "source": [
    "from statsmodels.tsa.api import VAR\n",
    "\n",
    "model2 = VAR(macrodata_diff)\n",
    "model2.select_order(maxlags=12).summary()\n"
   ]
  },
  {
   "cell_type": "code",
   "execution_count": null,
   "metadata": {
    "colab": {
     "base_uri": "https://localhost:8080/"
    },
    "id": "eBcQp1Hcw5LR",
    "outputId": "0737cc8f-8ec2-4e47-9a99-fe2d3aa292f3"
   },
   "outputs": [],
   "source": [
    "fitted_model = model.fit(2)\n",
    "print(fitted_model.summary())"
   ]
  },
  {
   "cell_type": "code",
   "execution_count": null,
   "metadata": {
    "colab": {
     "base_uri": "https://localhost:8080/"
    },
    "id": "0JuwKBU4zqWU",
    "outputId": "29aa3054-6984-46a4-9dba-b3834511a0fc"
   },
   "outputs": [],
   "source": [
    "# Granger 因果检验 的 另種python函式 (比egg跟chicken例子用的函式好)\n",
    "# GDP 是否 Granger 引起 CPIAUCSL (通货膨胀率)\n",
    "granger_test_gdp_cpi = fitted_model.test_causality('CPIAUCSL', ['GDP'], kind='f')\n",
    "print('Granger causality test for GDP causing Inflation:')\n",
    "print(granger_test_gdp_cpi.summary())\n",
    "\n",
    "# CPIAUCSL (通货膨胀率) 是否 Granger 引起 FEDFUNDS (利率)\n",
    "granger_test_cpi_fedfunds = fitted_model.test_causality('FEDFUNDS', ['CPIAUCSL'], kind='f')\n",
    "print('Granger causality test for Inflation causing Interest Rate:')\n",
    "print(granger_test_cpi_fedfunds.summary())"
   ]
  },
  {
   "cell_type": "code",
   "execution_count": null,
   "metadata": {
    "colab": {
     "base_uri": "https://localhost:8080/",
     "height": 854
    },
    "id": "zP3w0KhAv8uV",
    "outputId": "5fcddf6c-e827-4667-aaba-112dc34563de"
   },
   "outputs": [],
   "source": [
    "# 计算并绘制冲击响应函数 (IRF, impulse response function)\n",
    "irf = fitted_model.irf(10)  # 计算10期的IRF\n",
    "irf.plot(orth=False)\n",
    "plt.show()"
   ]
  },
  {
   "cell_type": "code",
   "execution_count": 31,
   "metadata": {},
   "outputs": [
    {
     "name": "stdout",
     "output_type": "stream",
     "text": [
      "特徵值: [0.13089398 0.02071928]\n",
      "共整合向量: [[ 3.09861801 -0.76333275]\n",
      " [-1.88326902 -0.41838376]]\n",
      "測試統計量: [29.02087638  3.76864854]\n",
      "臨界值: [[13.4294 15.4943 19.9349]\n",
      " [ 2.7055  3.8415  6.6349]]\n"
     ]
    }
   ],
   "source": [
    "# 建立共整合模型(另種方法)\n",
    "#因為如果有很多檔股票，不太能一個一個用回歸處理，故可以這樣操作\n",
    "#測試統計量夠大，也就是大於所有臨界值，表示是可以用的向量\n",
    "#所以第一個是可以用的，第二個可能就不太適合\n",
    "from statsmodels.tsa.vector_ar.vecm import coint_johansen\n",
    "\n",
    "johansen_test = coint_johansen(pairf, det_order=0, k_ar_diff=1)\n",
    "# 輸出結果\n",
    "print(\"特徵值:\", johansen_test.eig)\n",
    "print(\"共整合向量:\", johansen_test.evec)\n",
    "print(\"測試統計量:\", johansen_test.lr1)\n",
    "print(\"臨界值:\", johansen_test.cvt)"
   ]
  },
  {
   "cell_type": "code",
   "execution_count": null,
   "metadata": {},
   "outputs": [],
   "source": []
  }
 ],
 "metadata": {
  "colab": {
   "provenance": []
  },
  "kernelspec": {
   "display_name": "Python 3 (ipykernel)",
   "language": "python",
   "name": "python3"
  },
  "language_info": {
   "codemirror_mode": {
    "name": "ipython",
    "version": 3
   },
   "file_extension": ".py",
   "mimetype": "text/x-python",
   "name": "python",
   "nbconvert_exporter": "python",
   "pygments_lexer": "ipython3",
   "version": "3.11.7"
  }
 },
 "nbformat": 4,
 "nbformat_minor": 4
}
